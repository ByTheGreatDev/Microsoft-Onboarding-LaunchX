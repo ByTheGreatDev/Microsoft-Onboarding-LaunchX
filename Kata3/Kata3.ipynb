{
 "cells": [
  {
   "cell_type": "markdown",
   "metadata": {},
   "source": [
    "# Microsoft Kata3 Usar lógica booleana\t"
   ]
  },
  {
   "cell_type": "markdown",
   "metadata": {},
   "source": [
    "### Ejercicio - Escribir declaraciones if, else, y elif"
   ]
  },
  {
   "cell_type": "code",
   "execution_count": 4,
   "metadata": {},
   "outputs": [
    {
     "name": "stdout",
     "output_type": "stream",
     "text": [
      "El asteroide esta lejos de la tierra\n"
     ]
    }
   ],
   "source": [
    "# 1 Añadir el código necesario para crear una variable que guarde la velocidad del asteroide.\n",
    "# 2 Escribe una expresión de prueba para calcular si necesita una advertencia.\n",
    "# 3 Agregue las instrucciones que se ejecutarán si la expresión de prueba es true o false.\n",
    "\n",
    "asteroide = 49 #km/s\n",
    "\n",
    "if asteroide <= 25:\n",
    "    print('ADVERTENCIA, Asteroide acercándose a la Tierra')\n",
    "else:\n",
    "    print(\"El asteroide esta lejos de la tierra\")\n"
   ]
  },
  {
   "cell_type": "code",
   "execution_count": 5,
   "metadata": {},
   "outputs": [
    {
     "name": "stdout",
     "output_type": "stream",
     "text": [
      "19km/s Velocidad del asteroide está en el límite.\n"
     ]
    }
   ],
   "source": [
    "# 1 Agrega el código para crear una variable para un asteroide que viaja a 19 km/s\n",
    "# 2 Escribe varias expresiones de prueba para determinar si puedes ver el rayo de luz desde la tierra\n",
    "# 3 Agrega las instrucciones que se ejecutarán si las expresiones de prueba son True o False\n",
    "\n",
    "vel_asteroide = 19\n",
    "\n",
    "if vel_asteroide >= 20:\n",
    "    print(\"Activa  la alarma, va muy rapido\")\n",
    "elif vel_asteroide == 19:\n",
    "    print(\"19km/s Velocidad del asteroide está en el límite.\")\n",
    "else:\n",
    "    print(\"Su velocidad no representa peligro alguno\")\n"
   ]
  },
  {
   "cell_type": "markdown",
   "metadata": {},
   "source": [
    "### Ejercicio: Uso de operadores and y or"
   ]
  },
  {
   "cell_type": "markdown",
   "metadata": {},
   "source": [
    "Los asteroides de menos de 25 metros en su dimensión más grande probablemente se quemarán a medida que entren en la atmósfera de la Tierra.\n",
    "\n",
    "    Si una pieza de un asteroide que es más grande que 25 metros pero más pequeña que 1000 metros golpeara la Tierra, causaría mucho daño.\n",
    "\n",
    "También discutimos en el ejercicio anterior que:\n",
    "\n",
    "    La velocidad del asteroide varía en función de lo cerca que esté del sol, y cualquier velocidad superior a 25 kilómetros por segundo (km/s) merece una advertencia.\n",
    "    Si un asteroide entra en la atmósfera de la Tierra a una velocidad mayor o igual a 20 km/s, a veces produce un rayo de luz que se puede ver desde la Tierra.\n",
    "\n",
    "Usando toda esta información, escribe un programa que emita la advertencia o información correcta a la gente de la Tierra, según la velocidad y el tamaño de un asteroide. Utiliza instrucciones if, else, y elif, así como los operadores and y or."
   ]
  },
  {
   "cell_type": "code",
   "execution_count": 6,
   "metadata": {},
   "outputs": [
    {
     "name": "stdout",
     "output_type": "stream",
     "text": [
      "Destello de asterioide detectado\n"
     ]
    }
   ],
   "source": [
    "# Agrega el código para crear nuevas variables para la velocidad y el tamaño del asteroide\n",
    "# Para probar el código, prueba con varias velocidades y tamaños\n",
    "# Escribe varias expresiones de prueba o combinaciones de expresiones de prueba para determinar qué mensaje se debe enviar a Tierra.\n",
    "\n",
    "vel_asteroide = 25\n",
    "tam_asteroide = 40\n",
    "\n",
    "if vel_asteroide > 25 and tam_asteroide > 25:\n",
    "    print('¡Advertencia un asteroide de grandes proporciones se dirige hacia la Tierra!')\n",
    "elif vel_asteroide >= 20:\n",
    "    print('Destello de asterioide detectado')\n",
    "elif tam_asteroide < 25:\n",
    "    print('Ningun asterioide sobrepasa los parametros de peligro ')\n",
    "else:\n",
    "    print('Ningun asterioide sobrepasa los parametros de peligro')"
   ]
  }
 ],
 "metadata": {
  "interpreter": {
   "hash": "6a4f9173513f1ef61dae43cc3910a70ec8045789ec20b50b51b8e68ce282e191"
  },
  "kernelspec": {
   "display_name": "Python 3.10.2 64-bit",
   "language": "python",
   "name": "python3"
  },
  "language_info": {
   "codemirror_mode": {
    "name": "ipython",
    "version": 3
   },
   "file_extension": ".py",
   "mimetype": "text/x-python",
   "name": "python",
   "nbconvert_exporter": "python",
   "pygments_lexer": "ipython3",
   "version": "3.10.2"
  },
  "orig_nbformat": 4
 },
 "nbformat": 4,
 "nbformat_minor": 2
}
