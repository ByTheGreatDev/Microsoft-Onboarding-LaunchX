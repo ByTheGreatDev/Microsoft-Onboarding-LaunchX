{
 "cells": [
  {
   "cell_type": "markdown",
   "metadata": {},
   "source": [
    "# Microsoft Kata 8 Administrar datos con diccionarios\n",
    "\n",
    "## Ejercicio 1: Creación de diccionarios de Python - Crear y modificar un diccionario de Python\n",
    "\n",
    "Los diccionarios python te permiten modelar datos más complejos. Los diccionarios son una colección de pares clave/valor, y son muy comunes en los programas Python. Su flexibilidad le permite trabajar dinámicamente con valores relacionados sin tener que crear clases u objetos.\n",
    "\n",
    "Un diccionario se indica en Python mediante el uso de llaves (`{ }`), con pares clave/valor separados por dos puntos (`:`). Las claves son literales de cadena y los valores pueden ser de cualquier tipo de datos.{ }:\n",
    "\n",
    "```python\n",
    "demo = {\n",
    "    'key': 'value',\n",
    "    'number': 42\n",
    "}\n",
    "```\n",
    "\n",
    "Para este ejercicio, crearás un diccionario que almacene información sobre el planetaaa Marte.\n",
    "\n",
    "Agrega el código para crear un nuevo diccionario denominado 'planeta'. Rellena con la siguiente información:\n",
    "\n",
    "```\n",
    "name: Mars\n",
    "lunas: 2\n",
    "```"
   ]
  },
  {
   "cell_type": "code",
   "execution_count": 1,
   "metadata": {},
   "outputs": [],
   "source": [
    "# Crea un diccionario llamado planeta con los datos propuestos\n",
    "planeta = {\n",
    "    'name' : 'Mars',\n",
    "    'number' : '2'\n",
    "}"
   ]
  },
  {
   "cell_type": "code",
   "execution_count": 2,
   "metadata": {},
   "outputs": [
    {
     "name": "stdout",
     "output_type": "stream",
     "text": [
      "{'name': 'Mars', 'number': '2'}\n"
     ]
    }
   ],
   "source": [
    "print(planeta)"
   ]
  },
  {
   "cell_type": "markdown",
   "metadata": {},
   "source": [
    "Para recuperar valores, puede utilizar el método  `get` o corchetes (`[ ]`) con el nombre de la clave que desea recuperar."
   ]
  },
  {
   "cell_type": "code",
   "execution_count": 3,
   "metadata": {},
   "outputs": [
    {
     "name": "stdout",
     "output_type": "stream",
     "text": [
      "Mars\n"
     ]
    }
   ],
   "source": [
    "print(planeta.get('name'))"
   ]
  },
  {
   "cell_type": "markdown",
   "metadata": {},
   "source": [
    "Muestra el nombre del planeta y el número de lunas que tiene."
   ]
  },
  {
   "cell_type": "code",
   "execution_count": 4,
   "metadata": {},
   "outputs": [
    {
     "name": "stdout",
     "output_type": "stream",
     "text": [
      "Mars has 2 lunas\n"
     ]
    }
   ],
   "source": [
    "print(f'{planeta[\"name\"]} has {planeta[\"number\"]} lunas')"
   ]
  },
  {
   "cell_type": "markdown",
   "metadata": {},
   "source": [
    "Puedes actualizar las claves existentes o crear otras nuevas utilizando el método `update` o entre corchetes (`[ ]`). Cuando se usa `update`, se pasa un nuevo objeto de diccionario con los valores actualizados o nuevos. Cuando se usan corchetes, se especifica el nombre de la clave y se asigna un nuevo valor.\n",
    "\n",
    "\n",
    "```python\n",
    "demo['new_key'] = 'New value'\n",
    "```\n",
    "\n",
    "Agrega un nuevo valor con una clave de 'circunferencia (km)'. Este nuevo valor debería almacenar un diccionario con las dos circunferencias del planeta:\n",
    "\n",
    "```\n",
    "polar: 6752\n",
    "equatorial: 6792\n",
    "```\n"
   ]
  },
  {
   "cell_type": "code",
   "execution_count": 5,
   "metadata": {},
   "outputs": [],
   "source": [
    "# Agrega la clave circunferencia con los datos proporcionados previamente\n",
    "\n",
    "planeta['circumference (km)'] = {\n",
    "    'polar': 6752,\n",
    "    'equatorial': 6792\n",
    "}"
   ]
  },
  {
   "cell_type": "code",
   "execution_count": 6,
   "metadata": {},
   "outputs": [
    {
     "data": {
      "text/plain": [
       "{'name': 'Mars',\n",
       " 'number': '2',\n",
       " 'circumference (km)': {'polar': 6752, 'equatorial': 6792}}"
      ]
     },
     "execution_count": 6,
     "metadata": {},
     "output_type": "execute_result"
    }
   ],
   "source": [
    "planeta"
   ]
  },
  {
   "cell_type": "markdown",
   "metadata": {},
   "source": [
    "Imprime el nombre del planeta con su circunferencia polar."
   ]
  },
  {
   "cell_type": "code",
   "execution_count": 7,
   "metadata": {},
   "outputs": [
    {
     "name": "stdout",
     "output_type": "stream",
     "text": [
      "The Mars has a has a equatorial circumference of 6792\n"
     ]
    }
   ],
   "source": [
    "print(f'The {planeta[\"name\"]} has a has a equatorial circumference of {planeta[\"circumference (km)\"][\"equatorial\"]}')"
   ]
  },
  {
   "cell_type": "code",
   "execution_count": 8,
   "metadata": {},
   "outputs": [
    {
     "name": "stdout",
     "output_type": "stream",
     "text": [
      "Mars has a polar circumference of 6752\n"
     ]
    }
   ],
   "source": [
    "print(f'{planeta[\"name\"]} has a polar circumference of {planeta[\"circumference (km)\"][\"polar\"]}')"
   ]
  },
  {
   "cell_type": "markdown",
   "metadata": {},
   "source": [
    "## Ejercicio 2: Programación dinámica con diccionarios\n",
    "\n",
    "### Ejercicio: Cálculo de valores\n",
    "\n",
    "En este escenario, calcularás tanto el número total de lunas en el sistema solar como el número promedio de lunas que tiene un planeta."
   ]
  },
  {
   "cell_type": "code",
   "execution_count": 9,
   "metadata": {},
   "outputs": [],
   "source": [
    "# Planetas y lunas\n",
    "\n",
    "lunas_planetas = {\n",
    "    'mercury': 0,\n",
    "    'venus': 0,\n",
    "    'earth': 1,\n",
    "    'mars': 2,\n",
    "    'jupiter': 79,\n",
    "    'saturn': 82,\n",
    "    'uranus': 27,\n",
    "    'neptune': 14,\n",
    "    'pluto': 5,\n",
    "    'haumea': 2,\n",
    "    'makemake': 1,\n",
    "    'eris': 1\n",
    "}"
   ]
  },
  {
   "cell_type": "code",
   "execution_count": 10,
   "metadata": {},
   "outputs": [
    {
     "data": {
      "text/plain": [
       "{'mercury': 0,\n",
       " 'venus': 0,\n",
       " 'earth': 1,\n",
       " 'mars': 2,\n",
       " 'jupiter': 79,\n",
       " 'saturn': 82,\n",
       " 'uranus': 27,\n",
       " 'neptune': 14,\n",
       " 'pluto': 5,\n",
       " 'haumea': 2,\n",
       " 'makemake': 1,\n",
       " 'eris': 1}"
      ]
     },
     "execution_count": 10,
     "metadata": {},
     "output_type": "execute_result"
    }
   ],
   "source": [
    "lunas_planetas"
   ]
  },
  {
   "cell_type": "markdown",
   "metadata": {},
   "source": [
    "Los diccionarios de Python te permiten recuperar todos los valores y claves utilizando los métodos `values` y `keys`, respectivamente. Cada método devuelve una lista que contiene los datos, que luego se puede usar como una lista normal de Python. Puedes determinar el número de elementos mediante `len`, e iterar a través de él mediante un ciclo `for`.\n",
    "\n",
    "Agrega el código a continuación para determinar el número de lunas. Comienza almacenando el valor `values` de `lunas_planetas` en una variable denominada `lunas`. A continuación, almacena el número de planetas en una variable denominada `planetass`.\n"
   ]
  },
  {
   "cell_type": "code",
   "execution_count": 11,
   "metadata": {},
   "outputs": [
    {
     "name": "stdout",
     "output_type": "stream",
     "text": [
      "dict_values([0, 0, 1, 2, 79, 82, 27, 14, 5, 2, 1, 1])\n",
      "12\n"
     ]
    }
   ],
   "source": [
    "# Añade el código para determinar el número de lunas.\n",
    "\n",
    "# Obtenemos la lista de las lunas\n",
    "# Almacenamos los resultados en una variable lunas\n",
    "lunas = lunas_planetas.values()\n",
    "\n",
    "# Obtenemos el total de planetas\n",
    "# Almacenamos los resultados en una variable llamada years\n",
    "planetas = len(lunas_planetas.keys())\n",
    "\n",
    "print(lunas)\n",
    "print(planetas)"
   ]
  },
  {
   "cell_type": "code",
   "execution_count": 12,
   "metadata": {},
   "outputs": [
    {
     "data": {
      "text/plain": [
       "dict_keys(['mercury', 'venus', 'earth', 'mars', 'jupiter', 'saturn', 'uranus', 'neptune', 'pluto', 'haumea', 'makemake', 'eris'])"
      ]
     },
     "execution_count": 12,
     "metadata": {},
     "output_type": "execute_result"
    }
   ],
   "source": [
    "lunas_planetas.keys()"
   ]
  },
  {
   "cell_type": "code",
   "execution_count": 13,
   "metadata": {},
   "outputs": [
    {
     "name": "stdout",
     "output_type": "stream",
     "text": [
      "llevamos 0 lunas.\n",
      "llevamos 0 lunas.\n",
      "llevamos 1 lunas.\n",
      "llevamos 3 lunas.\n",
      "llevamos 82 lunas.\n",
      "llevamos 164 lunas.\n",
      "llevamos 191 lunas.\n",
      "llevamos 205 lunas.\n",
      "llevamos 210 lunas.\n",
      "llevamos 212 lunas.\n",
      "llevamos 213 lunas.\n",
      "llevamos 214 lunas.\n"
     ]
    }
   ],
   "source": [
    "# Calcula el total_moons agregando todas las lunas\n",
    "# Almacena su valor en una variable llamada total_moons\n",
    "contador = 0\n",
    "for luna in lunas:\n",
    "    contador = contador + luna\n",
    "    print(\"llevamos \" + str(contador) + \" lunas.\")"
   ]
  },
  {
   "cell_type": "code",
   "execution_count": 14,
   "metadata": {},
   "outputs": [
    {
     "name": "stdout",
     "output_type": "stream",
     "text": [
      "17.833333333333332\n"
     ]
    }
   ],
   "source": [
    "# Calcula el promedio dividiendo el total_moons por el número de planetas\n",
    "prom = contador / planetas\n",
    "print(prom)"
   ]
  },
  {
   "cell_type": "code",
   "execution_count": null,
   "metadata": {},
   "outputs": [],
   "source": []
  }
 ],
 "metadata": {
  "interpreter": {
   "hash": "bdd6452835a1642e2d58e70cd39963fdd7c788606328ae08c41b50372f3c6a18"
  },
  "kernelspec": {
   "display_name": "Python 3.10.2 64-bit",
   "language": "python",
   "name": "python3"
  },
  "language_info": {
   "codemirror_mode": {
    "name": "ipython",
    "version": 3
   },
   "file_extension": ".py",
   "mimetype": "text/x-python",
   "name": "python",
   "nbconvert_exporter": "python",
   "pygments_lexer": "ipython3",
   "version": "3.10.2"
  },
  "orig_nbformat": 4
 },
 "nbformat": 4,
 "nbformat_minor": 2
}
