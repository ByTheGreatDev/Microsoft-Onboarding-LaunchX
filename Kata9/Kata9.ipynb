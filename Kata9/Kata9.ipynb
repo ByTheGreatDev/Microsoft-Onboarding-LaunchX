{
 "cells": [
  {
   "cell_type": "markdown",
   "metadata": {},
   "source": [
    "# Microsoft Kata 9 Funciones\n",
    "\n",
    "## Ejercicio 1: Uso de funciones en Python - Trabajar con argumentos en funciones\n",
    "\n",
    "Los argumentos requeridos en las funciones se utilizan cuando las funciones necesitan que esos argumentos funcionen correctamente. En este ejercicio, construirás un informe de combustible que requiere información de varias ubicaciones de combustible en todo el cohete.\n",
    "\n"
   ]
  },
  {
   "cell_type": "code",
   "execution_count": 27,
   "metadata": {},
   "outputs": [],
   "source": [
    "# Función para leer 3 tanques de combustible y muestre el promedio\n",
    "def genReporte(tanquePrincipal, tanqueExterno, tanqueHidrogeno):\n",
    "    promTotal = (tanquePrincipal + tanqueExterno + tanqueHidrogeno) / 3\n",
    "    return f\"\"\"Estado del combustible:\n",
    "    Promedio total: {promTotal}%\n",
    "    Tanque principal: {tanquePrincipal}%\n",
    "    Tanque Externo: {tanqueExterno}%\n",
    "    Tanque de Hidrogeno: {tanqueHidrogeno}% \n",
    "    \"\"\""
   ]
  },
  {
   "cell_type": "code",
   "execution_count": 28,
   "metadata": {},
   "outputs": [
    {
     "name": "stdout",
     "output_type": "stream",
     "text": [
      "Estado del combustible:\n",
      "    Promedio total: 78.33333333333333%\n",
      "    Tanque principal: 80%\n",
      "    Tanque Externo: 70%\n",
      "    Tanque de Hidrogeno: 85% \n",
      "    \n"
     ]
    }
   ],
   "source": [
    "# Llamamos a la función que genera el reporte print(funcion(tanque1, tanque2, tanque3))\n",
    "print(genReporte(80, 70, 85))"
   ]
  },
  {
   "cell_type": "markdown",
   "metadata": {},
   "source": [
    "En lugar de simplemente crear el informe, la función también está calculando el promedio. Mejora la legibilidad extrayendo el cálculo promedio de la función en una nueva función para que el promedio se pueda hacer de forma independiente:\n"
   ]
  },
  {
   "cell_type": "code",
   "execution_count": 29,
   "metadata": {},
   "outputs": [
    {
     "data": {
      "text/plain": [
       "82.0"
      ]
     },
     "execution_count": 29,
     "metadata": {},
     "output_type": "execute_result"
    }
   ],
   "source": [
    "# Función promedio \n",
    "def promedio(valores):\n",
    "    total = sum(valores)\n",
    "    numero_Objetos = len(valores)\n",
    "    return total / numero_Objetos\n",
    "\n",
    "# Test the averaging function with a list of integers:\n",
    "promedio([80, 85, 81]) "
   ]
  },
  {
   "cell_type": "markdown",
   "metadata": {},
   "source": [
    "Ahora actualiza la función de informes para llamando a la nueva función del promedio:\n"
   ]
  },
  {
   "cell_type": "code",
   "execution_count": 30,
   "metadata": {},
   "outputs": [
    {
     "name": "stdout",
     "output_type": "stream",
     "text": [
      "Estado del combustible:\n",
      "    Total promedio: 78.0%\n",
      "    Tanque Principal: 88%\n",
      "    Tanque Externo: 76%\n",
      "    Tanque de Hidrogeno: 70% \n",
      "    \n"
     ]
    }
   ],
   "source": [
    "# Actualiza la función\n",
    "def genReporte(tanquePrincipal, tanqueExterno, tanqueHidrogeno):\n",
    "    return f\"\"\"Estado del combustible:\n",
    "    Total promedio: {promedio([tanquePrincipal, tanqueExterno, tanqueHidrogeno])}%\n",
    "    Tanque Principal: {tanquePrincipal}%\n",
    "    Tanque Externo: {tanqueExterno}%\n",
    "    Tanque de Hidrogeno: {tanqueHidrogeno}% \n",
    "    \"\"\"\n",
    "\n",
    "# Call the updated function again with different valores\n",
    "print(genReporte(88, 76, 70))"
   ]
  },
  {
   "cell_type": "markdown",
   "metadata": {},
   "source": [
    "## Ejercicio 2: Trabajo con argumentos de palabra clave\n",
    "\n",
    "### Ejercicio : Trabajar con argumentos de palabras clave en funciones\n",
    "En este ejercicio, construirás un informe de cohete que requiere varias piezas de información, como el tiempo hasta el destino, el combustible a la izquierda y el nombre del destino. Comienza por crear una función que creará un informe preciso de la misión:"
   ]
  },
  {
   "cell_type": "code",
   "execution_count": 31,
   "metadata": {},
   "outputs": [
    {
     "name": "stdout",
     "output_type": "stream",
     "text": [
      "\n",
      "    Mision a Luna\n",
      "    Tiempo total de viaje: 65 minutos\n",
      "    Combustible restante: 500000 gallones\n",
      "    \n"
     ]
    }
   ],
   "source": [
    "# Función con un informe preciso de la misión. Considera hora de prelanzamiento, tiempo de vuelo, destino, tanque externo y tanque interno\n",
    "\n",
    "def reporteMision(tiempo_prelanzamiento, tiempo_de_vuelo, destino, tanqueExterno, tanquePrincipal):\n",
    "    return f\"\"\"\n",
    "    Mision a {destino}\n",
    "    Tiempo total de viaje: {tiempo_prelanzamiento + tiempo_de_vuelo} minutos\n",
    "    Combustible restante: {tanqueExterno + tanquePrincipal} gallones\n",
    "    \"\"\"\n",
    "\n",
    "print(reporteMision(14, 51, \"Luna\", 200000, 300000))"
   ]
  },
  {
   "cell_type": "markdown",
   "metadata": {},
   "source": [
    "La función es problemática porque no se puede adaptar para minutos adicionales o tanques adicionales de combustible. Hazlo más flexible permitiendo cualquier número de pasos basados en el tiempo y cualquier número de tanques. En lugar de usar `*args` y `**kwargs`, aprovecha el hecho de que puedes usar cualquier nombre que desees. Asegurate que la función sea más legible mediante el uso de nombres de variables que están asociados con las entradas, como `*minutos` y `**reservaCombustible`:"
   ]
  },
  {
   "cell_type": "markdown",
   "metadata": {},
   "source": [
    "# Escribe tu nueva función de reporte considerando lo anterior\n"
   ]
  },
  {
   "cell_type": "code",
   "execution_count": 32,
   "metadata": {},
   "outputs": [
    {
     "name": "stdout",
     "output_type": "stream",
     "text": [
      "\n",
      "    Mision a luna\n",
      "    Tiempo total de viaje: 76 minutos\n",
      "    Combustible total restante: 500000\n",
      "    \n"
     ]
    }
   ],
   "source": [
    "# Escribe tu nueva función de reporte considerando lo anterior\n",
    "\n",
    "def reporteMision(destino, *minutos, **reservaCombustible):\n",
    "    return f\"\"\"\n",
    "    Mision a {destino}\n",
    "    Tiempo total de viaje: {sum(minutos)} minutos\n",
    "    Combustible total restante: {sum(reservaCombustible.values())}\n",
    "    \"\"\"\n",
    "\n",
    "print(reporteMision(\"luna\", 10, 15, 51, main=300000, external=200000))"
   ]
  },
  {
   "cell_type": "code",
   "execution_count": 33,
   "metadata": {},
   "outputs": [
    {
     "name": "stdout",
     "output_type": "stream",
     "text": [
      "\n",
      "    Mision a luna\n",
      "    Tiempo total de viaje: 74 minutos\n",
      "    Combustible total restante: 500000\n",
      "    main   tank --> 300000 gallones left\n",
      "external   tank --> 200000 gallones left\n",
      "\n"
     ]
    }
   ],
   "source": [
    "# Escribe tu nueva función\n",
    "\n",
    "def reporteMision(destino, *minutos, **reservaCombustible):\n",
    "    reportePrincipal = f\"\"\"\n",
    "    Mision a {destino}\n",
    "    Tiempo total de viaje: {sum(minutos)} minutos\n",
    "    Combustible total restante: {sum(reservaCombustible.values())}\n",
    "    \"\"\"\n",
    "    for nombreTanque, gallones in reservaCombustible.items():\n",
    "        reportePrincipal += f\"{nombreTanque}   tank --> {gallones} gallones left\\n\"\n",
    "    return reportePrincipal\n",
    "\n",
    "print(reporteMision(\"luna\", 8, 11, 55, main=300000, external=200000))"
   ]
  }
 ],
 "metadata": {
  "interpreter": {
   "hash": "bdd6452835a1642e2d58e70cd39963fdd7c788606328ae08c41b50372f3c6a18"
  },
  "kernelspec": {
   "display_name": "Python 3.10.2 64-bit",
   "language": "python",
   "name": "python3"
  },
  "language_info": {
   "codemirror_mode": {
    "name": "ipython",
    "version": 3
   },
   "file_extension": ".py",
   "mimetype": "text/x-python",
   "name": "python",
   "nbconvert_exporter": "python",
   "pygments_lexer": "ipython3",
   "version": "3.10.2"
  },
  "orig_nbformat": 4
 },
 "nbformat": 4,
 "nbformat_minor": 2
}
