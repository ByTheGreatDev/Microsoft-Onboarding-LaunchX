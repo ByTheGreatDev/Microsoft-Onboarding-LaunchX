{
 "cells": [
  {
   "cell_type": "markdown",
   "metadata": {},
   "source": [
    "# Microsoft Kata1 Primeros pasos."
   ]
  },
  {
   "cell_type": "markdown",
   "metadata": {},
   "source": [
    "### Mostrando Fecha del dia de hoy"
   ]
  },
  {
   "cell_type": "code",
   "execution_count": 3,
   "metadata": {},
   "outputs": [
    {
     "name": "stdout",
     "output_type": "stream",
     "text": [
      "Today's date is:  2022-02-21\n"
     ]
    }
   ],
   "source": [
    "from datetime import date\n",
    "\n",
    "print(\"Today's date is: \",date.today())"
   ]
  },
  {
   "cell_type": "markdown",
   "metadata": {},
   "source": [
    "### Construir un convertidor de unidades"
   ]
  },
  {
   "cell_type": "code",
   "execution_count": 4,
   "metadata": {},
   "outputs": [
    {
     "name": "stdout",
     "output_type": "stream",
     "text": [
      "11 parsecs, son 35.877159999999996 anos luz\n"
     ]
    }
   ],
   "source": [
    "parsec = 11\n",
    "anosluz = 3.26156 * parsec\n",
    "\n",
    "print(str(parsec) + \" parsecs, son \" + str(anosluz) + \" anos luz\")"
   ]
  }
 ],
 "metadata": {
  "interpreter": {
   "hash": "6a4f9173513f1ef61dae43cc3910a70ec8045789ec20b50b51b8e68ce282e191"
  },
  "kernelspec": {
   "display_name": "Python 3.10.2 64-bit",
   "language": "python",
   "name": "python3"
  },
  "language_info": {
   "codemirror_mode": {
    "name": "ipython",
    "version": 3
   },
   "file_extension": ".py",
   "mimetype": "text/x-python",
   "name": "python",
   "nbconvert_exporter": "python",
   "pygments_lexer": "ipython3",
   "version": "3.10.2"
  },
  "orig_nbformat": 4
 },
 "nbformat": 4,
 "nbformat_minor": 2
}
